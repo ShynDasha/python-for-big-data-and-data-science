{
 "nbformat": 4,
 "nbformat_minor": 0,
 "metadata": {
  "colab": {
   "provenance": []
  },
  "kernelspec": {
   "name": "python3",
   "display_name": "Python 3 (ipykernel)",
   "language": "python"
  },
  "language_info": {
   "name": "python"
  }
 },
 "cells": [
  {
   "cell_type": "markdown",
   "source": [
    "# I. OOP"
   ],
   "metadata": {
    "id": "5qV_sehzFCTp"
   }
  },
  {
   "cell_type": "markdown",
   "source": [
    "1. (6б). Створіть клас Building, додайте три атрибути, один з яких має значення за замовчуванням та два методи на свій розсуд."
   ],
   "metadata": {
    "id": "tx_U_hOALyfg"
   }
  },
  {
   "cell_type": "code",
   "source": [
    "class Building:\n",
    "    def __init__(self, address, floors, material=\"Glass\", color=\"White\"):\n",
    "        self.address = address\n",
    "        self.floors = floors\n",
    "        self.material = material #default\n",
    "        self.color = color  #default\n",
    "    def get_info(self):\n",
    "        return f\"Building at {self.address} with {self.floors} floors, made of {self.material} and {self.color}.\"\n",
    "\n",
    "    def renovate(self, new_material, new_color):\n",
    "        self.material = new_material\n",
    "        self.color = new_color\n",
    "        print(f\"The building at {self.address} has been renovated with {self.material} and {self.color}.\")\n",
    "\n",
    "#example\n",
    "b = Building(\"Park Str\", 11)\n",
    "print(b.get_info())\n",
    "\n",
    "b.renovate(\"Brick\", \"Brown\")\n",
    "print(b.get_info())\n"
   ],
   "metadata": {
    "id": "-Vf895KaL88N",
    "ExecuteTime": {
     "end_time": "2025-03-15T12:16:51.534126Z",
     "start_time": "2025-03-15T12:16:51.526201Z"
    }
   },
   "outputs": [
    {
     "name": "stdout",
     "output_type": "stream",
     "text": [
      "Building at Park Str with 11 floors, made of Glass and White.\n",
      "The building at Park Str has been renovated with Brick and Brown.\n",
      "Building at Park Str with 11 floors, made of Brick and Brown.\n"
     ]
    }
   ],
   "execution_count": 2
  },
  {
   "cell_type": "markdown",
   "source": [
    "2. (2б). Створіть два обʼєкти цього класу, де один з обʼєктів створюється із дефолтним значенням атрибуту. На одному обʼєкті отримайте значення його атрибуту, а на іншому викличте один з його методів."
   ],
   "metadata": {
    "id": "X_UlOMB0L93w"
   }
  },
  {
   "cell_type": "code",
   "source": [
    "# сreating two objects\n",
    "building1 = Building(\"Aveny Str. 10\", 6)  # default\n",
    "building2 = Building(\"Rise Str. 22\", 8, \"Concrete\", \"Gray\")  # Custom\n",
    "\n",
    "#  first object with default attribute\n",
    "print(\"Material of building1:\", building1.material)  # glass (default value)\n",
    "\n",
    "# second object\n",
    "building2.renovate(\"Steel\", \"Blue\")  #\n",
    "# updated information of building2\n",
    "print(building2.get_info())\n"
   ],
   "metadata": {
    "id": "7gBu0ESOMCpG",
    "ExecuteTime": {
     "end_time": "2025-03-15T18:57:06.665252Z",
     "start_time": "2025-03-15T18:57:06.659671Z"
    }
   },
   "outputs": [
    {
     "name": "stdout",
     "output_type": "stream",
     "text": [
      "Material of building1: Glass\n",
      "The building at Rise Str. 22 has been renovated with Steel and Blue.\n",
      "Building at Rise Str. 22 with 8 floors, made of Steel and Blue.\n"
     ]
    }
   ],
   "execution_count": 7
  },
  {
   "cell_type": "markdown",
   "source": [
    "3. (5б). Створіть клас, де атрибути мають різні рівні доступу. Спробуйте отримати їхні значення та опишіть результати."
   ],
   "metadata": {
    "id": "HoqSCZt1MHn5"
   }
  },
  {
   "cell_type": "code",
   "source": [
    "class Flower:\n",
    "    def __init__(self, name, color, amount):\n",
    "        self.name = name         # public\n",
    "        self._color = color      # protected\n",
    "        self.__amount = amount   # private\n",
    "\n",
    "    def get_amount(self):\n",
    "        return self.__amount  # method to access the private attribute\n",
    "\n",
    "# Creating an object\n",
    "tulips = Flower(\"Tulips\", \"Yellow\", 33)\n",
    "\n",
    "# Accessing the public attribute\n",
    "print(tulips.name)  # allowed access\n",
    "\n",
    "# Accessing the protected attribute\n",
    "print(tulips._color)  #not recommended\n",
    "\n",
    "# Accessing the private attribute\n",
    "# print(tulips.__petals)  #  Error\n",
    "\n",
    "# Accessing the private attribute with method\n",
    "print(tulips.get_amount())  # access\n"
   ],
   "metadata": {
    "id": "r9b3vJxBMSPV",
    "ExecuteTime": {
     "end_time": "2025-03-15T16:42:52.951934Z",
     "start_time": "2025-03-15T16:42:52.947780Z"
    }
   },
   "outputs": [
    {
     "name": "stdout",
     "output_type": "stream",
     "text": [
      "Tulips\n",
      "Yellow\n",
      "33\n"
     ]
    }
   ],
   "execution_count": 6
  },
  {
   "cell_type": "markdown",
   "source": [
    "4. (7б). Як ви розумієте термін self? Для чого використовується метод __init __?"
   ],
   "metadata": {
    "id": "5op2m2vgMSkZ"
   }
  },
  {
   "cell_type": "markdown",
   "source": "*self дає змогу звертатися до атрибутів та методів конкретного об'єкта класу. А __init__ використовується для ініціалізації атрибутів об'єкта",
   "metadata": {
    "id": "DyiPqNRvMasx"
   }
  },
  {
   "cell_type": "markdown",
   "source": [
    "5. (9б). Створіть клас 3D-фігура без атрибутів, з методом get_volume для отримання об'єму фігури, що повертає 0 та __add __, який приймає self та other в якості аргументів, а повертає суму об'ємів 3d-фігур self та other."
   ],
   "metadata": {
    "id": "-6X8EGfjMd2y"
   }
  },
  {
   "cell_type": "code",
   "source": [
    "class ThreeD:\n",
    "    def get_volume(self):\n",
    "        return 0  # Default volume 3D\n",
    "\n",
    "    def __add__(self, other):\n",
    "        if isinstance(other, ThreeD):\n",
    "            return self.get_volume() + other.get_volume()\n",
    "        raise TypeError(\"Can only add instances of ThreeDFigure\")\n",
    "\n",
    "# usage\n",
    "figure1 = ThreeD()\n",
    "figure2 = ThreeD()\n",
    "\n",
    "print(\"Volume of figure1:\", figure1.get_volume())  # 0\n",
    "print(\"Volume of figure2:\", figure2.get_volume())  # 0\n",
    "\n",
    "# Adding\n",
    "print(\"Sum of volumes:\", figure1 + figure2)  #  0\n"
   ],
   "metadata": {
    "id": "4rvO_wYUMaEr",
    "ExecuteTime": {
     "end_time": "2025-03-15T20:12:08.761786Z",
     "start_time": "2025-03-15T20:12:08.755326Z"
    }
   },
   "outputs": [
    {
     "name": "stdout",
     "output_type": "stream",
     "text": [
      "Volume of figure1: 0\n",
      "Volume of figure2: 0\n",
      "Sum of volumes: 0\n"
     ]
    }
   ],
   "execution_count": 8
  },
  {
   "cell_type": "markdown",
   "source": [
    "6. (11б). Створіть 2 дочірніх класи від 3d-фігура: Циліндр та Куб, які мають атрибути, необхідні для розрахунку об'єму. Визначте метод get_volume в кожному з них так, щоби вони розраховували об'єм у залежності від формули для кожного типу фігури. Створіть обʼєкт класу Циліндр та обʼєкт класу Куб. Виконайте операцію суми за допомогою оператора + між ними, аби знайти сумарний об'єм."
   ],
   "metadata": {
    "id": "SFcKnnv5Mo_z"
   }
  },
  {
   "cell_type": "code",
   "source": [
    "import math\n",
    "# Cylinder class\n",
    "class Cylinder(ThreeD):\n",
    "    def __init__(self, radius, height):\n",
    "        self.radius = radius\n",
    "        self.height = height\n",
    "\n",
    "    def get_volume(self):\n",
    "        return math.pi * self.radius**2 * self.height  # formula\n",
    "\n",
    "# Cube class\n",
    "class Cube(ThreeD):\n",
    "    def __init__(self, side):\n",
    "        self.side = side\n",
    "\n",
    "    def get_volume(self):\n",
    "        return self.side**3  #formula\n",
    "\n",
    "# objects\n",
    "cylinder = Cylinder(3, 6)  # Cylinder\n",
    "cube = Cube(3)  # Cube\n",
    "\n",
    "\n",
    "print(\"Cylinder volume:\", cylinder.get_volume())\n",
    "print(\"Cube volume:\", cube.get_volume())\n",
    "\n",
    "# Sum\n",
    "print(\"Total volume:\", cylinder + cube)"
   ],
   "metadata": {
    "id": "H3GVNr69Muf3",
    "ExecuteTime": {
     "end_time": "2025-03-15T20:15:50.646017Z",
     "start_time": "2025-03-15T20:15:50.639485Z"
    }
   },
   "outputs": [
    {
     "name": "stdout",
     "output_type": "stream",
     "text": [
      "Cylinder volume: 169.64600329384882\n",
      "Cube volume: 27\n",
      "Total volume: 196.64600329384882\n"
     ]
    }
   ],
   "execution_count": 12
  },
  {
   "cell_type": "markdown",
   "source": [
    "7. (3б). Продемонструйте різницю між isinstance та issubclass."
   ],
   "metadata": {
    "id": "HCvR206YMvLK"
   }
  },
  {
   "cell_type": "code",
   "source": [
    "print(isinstance(cube, ThreeD))  # Checks if cube(obj)  is an instance of ThreeD (or subclass)\n",
    "print(issubclass(Cube, ThreeD))   # Checks if Cube is a subclass of ThreeD"
   ],
   "metadata": {
    "id": "L_V1bBvDM0GN",
    "ExecuteTime": {
     "end_time": "2025-03-15T20:29:45.807959Z",
     "start_time": "2025-03-15T20:29:45.804121Z"
    }
   },
   "outputs": [
    {
     "name": "stdout",
     "output_type": "stream",
     "text": [
      "True\n",
      "True\n"
     ]
    }
   ],
   "execution_count": 14
  },
  {
   "cell_type": "markdown",
   "source": [
    "8. (13б). Створіть клас EWallet з приватними атрибутами balance та id. Реалізуйте методи поповнення та зняття коштів, забезпечивши належну інкапсуляцію. Підказка: використовуйте декоратори property та setter."
   ],
   "metadata": {
    "id": "jjsaBZ-iM0Qq"
   }
  },
  {
   "cell_type": "code",
   "source": [
    "class EWallet:\n",
    "    def __init__(self, id: str, balance: float = 0.0):\n",
    "        self._id = id\n",
    "        self._balance = balance\n",
    "\n",
    "    # Property decorator\n",
    "    @property\n",
    "    def balance(self):\n",
    "        return self._balance\n",
    "\n",
    "    # Setter decorator\n",
    "    @balance.setter\n",
    "    def balance(self, amount: float):\n",
    "        if amount < 0:\n",
    "            raise ValueError(\"Balance cannot be negative.\")\n",
    "        self._balance = amount\n",
    "\n",
    "    # Property decorator for accessing the id attribute\n",
    "    @property\n",
    "    def id(self):\n",
    "        return self._id\n",
    "\n",
    "    # Method for depositing funds into the wallet\n",
    "    def deposit(self, amount: float):\n",
    "        if amount <= 0:\n",
    "            raise ValueError(\"Deposit amount must be greater than zero.\")\n",
    "        self._balance += amount\n",
    "\n",
    "    # Method for withdrawing funds from the wallet\n",
    "    def withdraw(self, amount: float):\n",
    "        if amount <= 0:\n",
    "            raise ValueError(\"Withdrawal amount must be greater than zero.\")\n",
    "        if amount > self._balance:\n",
    "            raise ValueError(\"Insufficient funds.\")\n",
    "        self._balance -= amount\n",
    "\n",
    "# Example usage\n",
    "wallet = EWallet(id=\"num34\", balance=560.0)\n",
    "print(\"Balance: \",wallet.balance)  # 560.0\n",
    "\n",
    "wallet.deposit(12.0)\n",
    "print(\"Account replenishment: \",wallet.balance)  # 572.0\n",
    "\n",
    "wallet.withdraw(30.0)\n",
    "print(\"Money withdraw: \",wallet.balance)  # 542.0\n"
   ],
   "metadata": {
    "id": "xCvZ7lh8M7YA",
    "ExecuteTime": {
     "end_time": "2025-03-16T19:56:40.426265Z",
     "start_time": "2025-03-16T19:56:40.421972Z"
    }
   },
   "outputs": [
    {
     "name": "stdout",
     "output_type": "stream",
     "text": [
      "Balance:  560.0\n",
      "Account replenishment:  572.0\n",
      "Money withdraw:  542.0\n"
     ]
    }
   ],
   "execution_count": 39
  },
  {
   "cell_type": "markdown",
   "source": [
    "9. (11б). Створіть клас ShoppingCart, який містить список об'єктів типу Item. Реалізуйте методи для додавання айтемів, їх видалення та відображення списку айтемів."
   ],
   "metadata": {
    "id": "tIzL2SJTM8ft"
   }
  },
  {
   "cell_type": "code",
   "source": [
    "class Item:\n",
    "    def __init__(self, name, price):\n",
    "        self.name = name\n",
    "        self.price = price\n",
    "\n",
    "    def __str__(self):\n",
    "        return f\"{self.name} ${self.price}\"\n",
    "\n",
    "class ShoppingCart:\n",
    "    def __init__(self):\n",
    "        self.items = []  # List objects\n",
    "\n",
    "    def add_item(self, item):\n",
    "        self.items.append(item)\n",
    "        print(f\"Added {item.name} to the cart.\")\n",
    "\n",
    "    def remove_item(self, item_name):\n",
    "        for item in self.items:\n",
    "            if item.name == item_name:\n",
    "                self.items.remove(item)\n",
    "                print(f\"Removed {item.name} from the cart.\")\n",
    "                return\n",
    "        print(f\"Item '{item_name}' not found in the cart.\")\n",
    "\n",
    "    def show_items(self):\n",
    "        if not self.items:\n",
    "            print(\"The shopping cart is empty.\")\n",
    "        else:\n",
    "            print(\"Shopping Cart Items:\")\n",
    "            for item in self.items:\n",
    "                print(f\"- {item}\")\n",
    "\n",
    "# use\n",
    "cart = ShoppingCart()\n",
    "obj1 = Item(\"Cake\", 23.99)\n",
    "obj2 = Item(\"Strawberry\", 15.30)\n",
    "\n",
    "cart.add_item(obj1)\n",
    "cart.add_item(obj2)\n",
    "cart.show_items()\n",
    "\n",
    "cart.remove_item(\"Cake\")\n",
    "cart.show_items()\n"
   ],
   "metadata": {
    "id": "HWxfJKLtNAUZ",
    "ExecuteTime": {
     "end_time": "2025-03-15T21:15:45.120340Z",
     "start_time": "2025-03-15T21:15:45.115449Z"
    }
   },
   "outputs": [
    {
     "name": "stdout",
     "output_type": "stream",
     "text": [
      "Added Cake to the cart.\n",
      "Added Strawberry to the cart.\n",
      "Shopping Cart Items:\n",
      "- Cake $23.99\n",
      "- Strawberry $15.3\n",
      "Removed Cake from the cart.\n",
      "Shopping Cart Items:\n",
      "- Strawberry $15.3\n"
     ]
    }
   ],
   "execution_count": 27
  },
  {
   "cell_type": "markdown",
   "source": [
    "10. (13б). Створіть клас Vehicle з атрибутами brand (manufacturer) та production_age. Створіть ще один клас Engine з такими атрибутами, як type (ex. petrol) та size (volume, litres). Створіть клас Car, який успадковує обидва класи Vehicle та Engine. Продемонструйте використання множинної спадковості, створивши обʼєкт класу Car та отримавши mro для цього класу."
   ],
   "metadata": {
    "id": "lmV8pAwwNIqu"
   }
  },
  {
   "cell_type": "code",
   "source": [
    "class Vehicle:\n",
    "    def __init__(self, brand, production_age):\n",
    "        self.brand = brand\n",
    "        self.production_age = production_age\n",
    "\n",
    "\n",
    "class Engine:\n",
    "    def __init__(self, type, size):\n",
    "        self.type = type\n",
    "        self.size = size\n",
    "\n",
    "\n",
    "class Car(Vehicle, Engine):\n",
    "    def __init__(self, brand, production_age, type, size):\n",
    "        Vehicle.__init__(self, brand, production_age)\n",
    "        Engine.__init__(self, type, size)\n",
    "\n",
    "\n",
    "# Create an object of the Car class\n",
    "car = Car(\"Porsche\", 5, \"Petrol\", 2.3)\n",
    "\n",
    "# Display the MRO (Method Resolution Order)\n",
    "print(Car.__mro__)\n"
   ],
   "metadata": {
    "id": "R49grKlWNPeN",
    "ExecuteTime": {
     "end_time": "2025-03-15T21:38:50.625525Z",
     "start_time": "2025-03-15T21:38:50.621106Z"
    }
   },
   "outputs": [
    {
     "name": "stdout",
     "output_type": "stream",
     "text": [
      "(<class '__main__.Car'>, <class '__main__.Vehicle'>, <class '__main__.Engine'>, <class 'object'>)\n"
     ]
    }
   ],
   "execution_count": 32
  },
  {
   "cell_type": "markdown",
   "source": [
    "# II. Iterator"
   ],
   "metadata": {
    "id": "dIJyUiNBFG8G"
   }
  },
  {
   "cell_type": "markdown",
   "source": [
    "11. (4б). Визначте рядок(str) з 4ма різними за значенням символами. Створіть ітератор на основі цього рядка. Викличте 5 разів функцію next на ітераторі, 4ри перших з них огорніть у ф-цію print()."
   ],
   "metadata": {
    "id": "13vsm0NyKIzL"
   }
  },
  {
   "cell_type": "code",
   "source": [
    "# a string with four different elem\n",
    "new_string = \"sgbx\"\n",
    "\n",
    "# Create an iterator from the string\n",
    "iterator = iter(new_string)\n",
    "\n",
    "# call next() four times\n",
    "print(next(iterator))\n",
    "print(next(iterator))\n",
    "print(next(iterator))\n",
    "print(next(iterator))\n",
    "\n",
    "# Fifth call to next() will cause a StopIteration error\n",
    "next(iterator)  #  StopIteration\n"
   ],
   "metadata": {
    "id": "81ntabAkKuz-",
    "ExecuteTime": {
     "end_time": "2025-03-15T20:34:00.571043Z",
     "start_time": "2025-03-15T20:34:00.560013Z"
    }
   },
   "outputs": [
    {
     "name": "stdout",
     "output_type": "stream",
     "text": [
      "s\n",
      "g\n",
      "b\n",
      "x\n"
     ]
    },
    {
     "ename": "StopIteration",
     "evalue": "",
     "output_type": "error",
     "traceback": [
      "\u001B[0;31m---------------------------------------------------------------------------\u001B[0m",
      "\u001B[0;31mStopIteration\u001B[0m                             Traceback (most recent call last)",
      "Cell \u001B[0;32mIn[18], line 14\u001B[0m\n\u001B[1;32m     11\u001B[0m \u001B[38;5;28mprint\u001B[39m(\u001B[38;5;28mnext\u001B[39m(iterator))\n\u001B[1;32m     13\u001B[0m \u001B[38;5;66;03m# Fifth call to next() will cause a StopIteration error\u001B[39;00m\n\u001B[0;32m---> 14\u001B[0m \u001B[38;5;28;43mnext\u001B[39;49m\u001B[43m(\u001B[49m\u001B[43miterator\u001B[49m\u001B[43m)\u001B[49m  \u001B[38;5;66;03m#  StopIteration\u001B[39;00m\n",
      "\u001B[0;31mStopIteration\u001B[0m: "
     ]
    }
   ],
   "execution_count": 18
  },
  {
   "cell_type": "markdown",
   "source": [
    "А що якщо викликати цю ж функцію на рядку?"
   ],
   "metadata": {
    "id": "aekWHGXOLRsO"
   }
  },
  {
   "cell_type": "code",
   "source": "print(next(\"sgbx\"))  # Error: 'str' object is not an iterator",
   "metadata": {
    "id": "mxATGsErLV1i",
    "ExecuteTime": {
     "end_time": "2025-03-15T21:43:39.395777Z",
     "start_time": "2025-03-15T21:43:39.393510Z"
    }
   },
   "outputs": [],
   "execution_count": 33
  },
  {
   "cell_type": "markdown",
   "source": [
    " 12. (5б). Опишіть своїми словами в одному реченні, як ви розумієте різницю між ітерабельними обʼєктами та ітераторами (можна на прикладі)."
   ],
   "metadata": {
    "id": "XwtMEopwJ4pH"
   }
  },
  {
   "cell_type": "markdown",
   "source": "*Список або деяка колекція це ітерабельний об'єкт, але для того щоб пройтись по його елементам треба ітератор. Приклад: Книжка яку ми читаємо є ітерабельним об'єктом, бо має сторінки. А наші руки, які перегортують одну сторінку за іншою, є ітераторами.",
   "metadata": {
    "id": "-sHrODc3KFn8"
   }
  },
  {
   "cell_type": "markdown",
   "source": [
    "13. (11б). Створіть клас, що має визначений Iterator Protocol та при кожному виклику next повертає назву дня тижня, поки вони не вичерпаються. Зверніть увагу, що порядок має значення."
   ],
   "metadata": {
    "id": "E9qJWmNbK8Gl"
   }
  },
  {
   "cell_type": "code",
   "source": [
    "class Weekdays:\n",
    "    def __init__(self):\n",
    "        self.days = [\"Monday\", \"Tuesday\", \"Wednesday\", \"Thursday\", \"Friday\", \"Saturday\", \"Sunday\"]\n",
    "        self.index = 0\n",
    "\n",
    "    def __iter__(self):\n",
    "        return self\n",
    "\n",
    "    def __next__(self):\n",
    "        if self.index < len(self.days):\n",
    "            day = self.days[self.index]\n",
    "            self.index += 1\n",
    "            return day\n",
    "        raise StopIteration  # Stop iteration when all days are called\n",
    "\n",
    "# use\n",
    "week_iterator = Weekdays()\n",
    "\n",
    "for day in week_iterator:\n",
    "    print(day)\n"
   ],
   "metadata": {
    "id": "cqx-g_RsLo6I",
    "ExecuteTime": {
     "end_time": "2025-03-15T20:42:35.881829Z",
     "start_time": "2025-03-15T20:42:35.875569Z"
    }
   },
   "outputs": [
    {
     "name": "stdout",
     "output_type": "stream",
     "text": [
      "Monday\n",
      "Tuesday\n",
      "Wednesday\n",
      "Thursday\n",
      "Friday\n",
      "Saturday\n",
      "Sunday\n"
     ]
    }
   ],
   "execution_count": 19
  },
  {
   "cell_type": "markdown",
   "source": [
    "# Вітаю! Ви велика(ий) молодець, що впоралась(вся). Похваліть себе та побалуйте чимось приємним. Я Вами пишаюся."
   ],
   "metadata": {
    "id": "Z3E3S_s1Fv7-"
   }
  }
 ]
}
