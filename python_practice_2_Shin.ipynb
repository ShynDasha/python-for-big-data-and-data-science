{
 "nbformat": 4,
 "nbformat_minor": 0,
 "metadata": {
  "colab": {
   "provenance": []
  },
  "kernelspec": {
   "name": "python3",
   "display_name": "Python 3 (ipykernel)",
   "language": "python"
  },
  "language_info": {
   "name": "python"
  }
 },
 "cells": [
  {
   "cell_type": "markdown",
   "source": [
    "# I. Змінні та памʼять."
   ],
   "metadata": {
    "id": "p9wwt0LZzNvn"
   }
  },
  {
   "cell_type": "markdown",
   "source": [
    "1. Створити змінні, що посилаються на два цілих числа, що однакові за значенням, де значення належить проміжку від -5 до 256. Перевірте, чи будуть ці змінні рівні тільки за значенням або ж ще будуть посилатися на один і той самий обʼєкт в памʼяті? Наведіть код та дайте текстову відповідь нижче."
   ],
   "metadata": {
    "id": "HTJrrm95xSV9"
   }
  },
  {
   "cell_type": "code",
   "metadata": {
    "id": "TATni2vzayjG",
    "ExecuteTime": {
     "end_time": "2025-02-19T12:48:49.466350Z",
     "start_time": "2025-02-19T12:48:49.463339Z"
    }
   },
   "source": [
    "var_A =142\n",
    "var_B =142\n",
    "print(\"Рівні за значенням: \",var_A == var_B)\n",
    "print (\"Посилаються на один і той же об'єкт в пам'яті: \", id(var_A), id(var_B), var_A is var_B)\n"
   ],
   "outputs": [
    {
     "name": "stdout",
     "output_type": "stream",
     "text": [
      "Рівні за значенням:  True\n",
      "Посилаються на один і той же об'єкт в пам'яті:  4316170032 4316170032 True\n"
     ]
    }
   ],
   "execution_count": 14
  },
  {
   "cell_type": "markdown",
   "source": "*змінні рівні і за значенням і посилаються на один і той самий об'єкт в пам'яті. Бо в Python значення в цьому діапазоні кешуються для оптимізації  роботи з числовими даними, які часто використовуються тому і посилаються на один об'єкт",
   "metadata": {
    "id": "zfRG_o3WbRdg"
   }
  },
  {
   "cell_type": "markdown",
   "source": [
    "2. За допомогою якої функції можна перевірити належність змінної до вказаного типу даних (напр. чи змінна True посилається на значення булевого та цілочисленого типу)?"
   ],
   "metadata": {
    "id": "ISORzt6M3vAt"
   }
  },
  {
   "cell_type": "code",
   "source": [
    "x = True\n",
    "print(isinstance(x, bool)) #true\n",
    "print(isinstance(x, int)) # true\n",
    "print(isinstance(x, int)) #false"
   ],
   "metadata": {
    "id": "9vL9CFaMbfyo",
    "ExecuteTime": {
     "end_time": "2025-02-19T11:53:28.947941Z",
     "start_time": "2025-02-19T11:53:28.945189Z"
    }
   },
   "outputs": [
    {
     "name": "stdout",
     "output_type": "stream",
     "text": [
      "True\n",
      "True\n",
      "True\n"
     ]
    }
   ],
   "execution_count": 3
  },
  {
   "cell_type": "markdown",
   "source": [
    "# II. Цілі числа та числа з рухомою комою"
   ],
   "metadata": {
    "id": "tRxugKAxwYLw"
   }
  },
  {
   "cell_type": "markdown",
   "source": [
    "3. Створити дві змінні, що посилаються на будь-які ціле число та число з рухомою комою та продемонструвати такі арифметичні операції: додавання, віднімання, ділення, множення, ділення без залишку, ділення по модулю, приведення до ступеню. Всі результати операцій вивести на екран."
   ],
   "metadata": {
    "id": "NLHkgd5Gybc8"
   }
  },
  {
   "cell_type": "code",
   "source": [
    "first_int=23\n",
    "second_fload=15.6\n",
    "print(first_int, \"\\n\",second_fload)\n",
    "add= first_int + second_fload\n",
    "min = first_int - second_fload\n",
    "div = first_int / second_fload\n",
    "mul = first_int * second_fload\n",
    "floor_div = first_int // second_fload\n",
    "modus = first_int % second_fload\n",
    "power = first_int ** second_fload\n",
    "print(\"додавання: \", add)\n",
    "print(\"віднімання: \", min)\n",
    "print(\"ділення: \", div)\n",
    "print(\"множення: \", mul)\n",
    "print(\"ділення без залишку: \", floor_div)\n",
    "print(\"діленя по модулю: \", modus)\n",
    "print(\"приведення до степеню: \", power)"
   ],
   "metadata": {
    "id": "nb8u_3pjb2cA",
    "ExecuteTime": {
     "end_time": "2025-02-19T11:53:49.332655Z",
     "start_time": "2025-02-19T11:53:49.328842Z"
    }
   },
   "outputs": [
    {
     "name": "stdout",
     "output_type": "stream",
     "text": [
      "23 \n",
      " 15.6\n",
      "додавання:  38.6\n",
      "віднімання:  7.4\n",
      "ділення:  1.4743589743589745\n",
      "множення:  358.8\n",
      "ділення без залишку:  1.0\n",
      "діленя по модулю:  7.4\n",
      "приведення до степеню:  1.7496623310290454e+21\n"
     ]
    }
   ],
   "execution_count": 1
  },
  {
   "cell_type": "markdown",
   "source": [
    "4. Використовуючи змінні з вправи 3, продемонструйте механізм явного перетворення типів, де числа з рухомою комою перетворюються на цілі числа. Також визначте змінну, що посилається на значення булевого типу і спробуйте явно привести її до цілого числа."
   ],
   "metadata": {
    "id": "1kBClKgPzZnC"
   }
  },
  {
   "cell_type": "code",
   "source": [
    "conv_to_int= int(second_fload)\n",
    "print(\"приведення fload до int:\",conv_to_int)\n",
    "\n",
    "bool_var_true = True\n",
    "conv_true_to_int = int(bool_var_true)\n",
    "print(\"приведення true(bool) до int:\",conv_true_to_int)\n",
    "\n",
    "bool_var_false = False\n",
    "conv_false_to_int = int(bool_var_false)\n",
    "print(\"приведення false(bool) до int:\",conv_false_to_int)"
   ],
   "metadata": {
    "id": "TbqJbkeUcKsD",
    "ExecuteTime": {
     "end_time": "2025-02-19T11:53:59.189281Z",
     "start_time": "2025-02-19T11:53:59.186249Z"
    }
   },
   "outputs": [
    {
     "name": "stdout",
     "output_type": "stream",
     "text": [
      "приведення fload до int: 15\n",
      "приведення true(bool) до int: 1\n",
      "приведення false(bool) до int: 0\n"
     ]
    }
   ],
   "execution_count": 2
  },
  {
   "cell_type": "markdown",
   "source": [
    "# IІІ. Рядки (String)."
   ],
   "metadata": {
    "id": "EVJ7AflwxrZi"
   }
  },
  {
   "cell_type": "markdown",
   "source": [
    "5. Створити пустий рядок двома різними способами."
   ],
   "metadata": {
    "id": "_s5ECzz9zE61"
   }
  },
  {
   "cell_type": "code",
   "source": [
    "empty_str1 = \"\"\n",
    "empty_str2 = str()"
   ],
   "metadata": {
    "id": "fkZJHu9Scvc-",
    "ExecuteTime": {
     "end_time": "2025-02-19T11:54:15.148218Z",
     "start_time": "2025-02-19T11:54:15.145657Z"
    }
   },
   "outputs": [],
   "execution_count": 9
  },
  {
   "cell_type": "markdown",
   "source": [
    "6. Створити рядок з апострофом. Зробити його сирим. Вивести обидва рядка на екран."
   ],
   "metadata": {
    "id": "4Bdn9J3MzLf_"
   }
  },
  {
   "cell_type": "code",
   "source": [
    "norm_string = \"I'm in \\nSpain!\"\n",
    "raw_string = r\"I'm in \\nSpain!\"\n",
    "\n",
    "print(\"Звичайний рядок:\", norm_string)\n",
    "print(\"Сирий рядок:\", raw_string)"
   ],
   "metadata": {
    "id": "ivji_hsmc0GH",
    "ExecuteTime": {
     "end_time": "2025-02-20T12:20:31.236995Z",
     "start_time": "2025-02-20T12:20:31.233767Z"
    }
   },
   "outputs": [
    {
     "name": "stdout",
     "output_type": "stream",
     "text": [
      "Звичайний рядок: I'm in \n",
      "Spain!\n",
      "Сирий рядок: I'm in \\nSpain!\n"
     ]
    }
   ],
   "execution_count": 65
  },
  {
   "cell_type": "markdown",
   "source": [
    "7. Створити змінну, що буде посилатися на Ваше прізвище латинкою. Створити форматований рядок, який буде мати вигляд \"My surname is ______\", де на місці нижніх підкреслень буде Ваше прізвище зі змінної."
   ],
   "metadata": {
    "id": "bg_d8wM4z8dS"
   }
  },
  {
   "cell_type": "code",
   "source": [
    "my_surname = \"Shin\"\n",
    "format_str = f\"My surname is {my_surname}\"\n",
    "print(format_str)"
   ],
   "metadata": {
    "id": "kuxFgpWndACq",
    "ExecuteTime": {
     "end_time": "2025-02-20T07:48:10.770701Z",
     "start_time": "2025-02-20T07:48:10.767883Z"
    }
   },
   "outputs": [
    {
     "name": "stdout",
     "output_type": "stream",
     "text": [
      "My surname is Shin\n"
     ]
    }
   ],
   "execution_count": 54
  },
  {
   "cell_type": "markdown",
   "source": [
    "8. Маючи рядок \"My dog is crazy.\" перетворити його на список [\"my\", \"dog\", \"is\", \"crazy\"]"
   ],
   "metadata": {
    "id": "1Nc6RqvQ0hxU"
   }
  },
  {
   "cell_type": "code",
   "source": [
    "str = \"My dog is crazy.\"\n",
    "new_list = str.lower().strip(\".\").split()\n",
    "print(new_list)"
   ],
   "metadata": {
    "id": "w1Ya4RqedUhw",
    "ExecuteTime": {
     "end_time": "2025-02-19T13:46:27.010153Z",
     "start_time": "2025-02-19T13:46:27.007875Z"
    }
   },
   "outputs": [
    {
     "name": "stdout",
     "output_type": "stream",
     "text": [
      "['my', 'dog', 'is', 'crazy']\n"
     ]
    }
   ],
   "execution_count": 38
  },
  {
   "cell_type": "markdown",
   "source": [
    "# IV. Робота зі списками."
   ],
   "metadata": {
    "id": "GYVqN9uP1D4n"
   }
  },
  {
   "cell_type": "markdown",
   "source": [
    "9. Створити список двома різними за синтаксисом способами. За допомогою вбудованої функції обчисліть довжину одного з них."
   ],
   "metadata": {
    "id": "7-DeDunw2sO-"
   }
  },
  {
   "cell_type": "code",
   "source": [
    "list1 = [22, 21, 24, 76, 57]\n",
    "list2 = list((22, 21, 24, 76, 57))\n",
    "length_list1 = len(list1)\n",
    "print(\"Список 1:\", list1)\n",
    "\n",
    "print(\"Довжина списку 1:\", length_list1)\n"
   ],
   "metadata": {
    "id": "zxg06Uuxdyoh",
    "ExecuteTime": {
     "end_time": "2025-02-19T13:48:04.933124Z",
     "start_time": "2025-02-19T13:48:04.930552Z"
    }
   },
   "outputs": [
    {
     "name": "stdout",
     "output_type": "stream",
     "text": [
      "Список 1: [1, 2, 3, 4, 5]\n",
      "Довжина списку 1: 5\n"
     ]
    }
   ],
   "execution_count": 42
  },
  {
   "cell_type": "markdown",
   "source": [
    "10. Створіть два списка та за допомогою спеціального методу додайте другий з них в якості останнього елемента першого."
   ],
   "metadata": {
    "id": "8vmGUTjL22gI"
   }
  },
  {
   "cell_type": "code",
   "source": [
    "list1 = [7, 6, 5, 4, 3]\n",
    "list2 = [2, 1]\n",
    "\n",
    "list1.append(list2)\n",
    "print(\"список після додавання:\", list1)"
   ],
   "metadata": {
    "id": "uHtjWYw7d7hm",
    "ExecuteTime": {
     "end_time": "2025-02-20T07:23:11.189376Z",
     "start_time": "2025-02-20T07:23:11.183900Z"
    }
   },
   "outputs": [
    {
     "name": "stdout",
     "output_type": "stream",
     "text": [
      "список після додавання: [7, 6, 5, 4, 3, [2, 1]]\n"
     ]
    }
   ],
   "execution_count": 43
  },
  {
   "cell_type": "markdown",
   "source": [
    "11. Створіть список, де елементами цього списку також є списки. Отримай перший елемент з останнього рядка та виведи значення на екран."
   ],
   "metadata": {
    "id": "JC3BkD-67_--"
   }
  },
  {
   "cell_type": "code",
   "source": [
    "list1 = [[7, 6], [5, 4], [3, 2]]\n",
    "last_row_first_el = list1[2][0]\n",
    "print(\"Перший елемент з останнього рядка: \", last_row_first_el)"
   ],
   "metadata": {
    "id": "Kz2jZHsGeLlz",
    "ExecuteTime": {
     "end_time": "2025-02-20T07:28:20.126928Z",
     "start_time": "2025-02-20T07:28:20.123920Z"
    }
   },
   "outputs": [
    {
     "name": "stdout",
     "output_type": "stream",
     "text": [
      "Перший елемент з останнього рядка:  3\n"
     ]
    }
   ],
   "execution_count": 45
  },
  {
   "cell_type": "markdown",
   "source": [
    "12. Створіть список з десяти елементів різного типу. Отримайте всі елементи, окрім двох перших та двох останніх та збережіть їх в новій змінній."
   ],
   "metadata": {
    "id": "JA47PKTv8zFK"
   }
  },
  {
   "cell_type": "code",
   "source": [
    "my_list = [1, [2, 3], True, 2.43, \"this\", 0, (2,5), \"num\", 24.345, False]\n",
    "new_list = my_list[2: 8]\n",
    "print(\"Новий список: \",new_list)"
   ],
   "metadata": {
    "id": "_rHdUR-ueP4-",
    "ExecuteTime": {
     "end_time": "2025-02-20T07:33:14.389276Z",
     "start_time": "2025-02-20T07:33:14.386770Z"
    }
   },
   "outputs": [
    {
     "name": "stdout",
     "output_type": "stream",
     "text": [
      "Новий список:  [True, 2.43, 'this', 0, (2, 5), 'num']\n"
     ]
    }
   ],
   "execution_count": 48
  },
  {
   "cell_type": "markdown",
   "source": [
    "# V. Робота з кортежами."
   ],
   "metadata": {
    "id": "pCjR1dJb1Qbi"
   }
  },
  {
   "cell_type": "markdown",
   "source": [
    "14. Створити кортеж з один елементом."
   ],
   "metadata": {
    "id": "fAZCxAX06R_k"
   }
  },
  {
   "cell_type": "code",
   "source": [
    "tuple_with_one_elem = (42,)\n",
    "print(\"Кортеж з одним елементом:\",tuple_with_one_elem)"
   ],
   "metadata": {
    "id": "H7d82WkQev3e",
    "ExecuteTime": {
     "end_time": "2025-02-19T13:30:27.712183Z",
     "start_time": "2025-02-19T13:30:27.707311Z"
    }
   },
   "outputs": [
    {
     "name": "stdout",
     "output_type": "stream",
     "text": [
      "Кортеж з одним елементом: (42,)\n"
     ]
    }
   ],
   "execution_count": 15
  },
  {
   "cell_type": "markdown",
   "source": [
    "15. Порівняйте список та кортеж. Назвіть схожості та відмінності, випадки використання."
   ],
   "metadata": {
    "id": "8LCtYcmI6w1M"
   }
  },
  {
   "cell_type": "markdown",
   "source": [
    "*Кортежі позначаємо - (), а списки []\n",
    "Одне з основних відмінностей це те, що списки динамічні і змінюються. Кортежі ж статичні\n",
    "Схожі характеристики: зберігають різни типи даних, індексуються, також можна застосовувати цикли для ітерацій\n",
    "Щодо використання наприклад, кортежі використовуємо коли зміна даних не потрібно, а списки навпаки коли важливо змінювати початкові дані.\n",
    "Кортежі також добре підходять для збереження незмінюваних наборів даних"
   ],
   "metadata": {
    "id": "fUsN1Hnue0C6"
   }
  },
  {
   "cell_type": "markdown",
   "source": [
    "16. Створіть кортеж з 11ти елементів чисел з рухомою комою та отримайте кожен парний за індексом елемент в зворотньому порядку. Наприклад, маючи (1.2, 2.3, 3.3, 4.3, 5.3, 6.3, 7.3, 8.3, 9.3, 0.3), отримати (0.3, 8.3, 6.3, 4.3, 2.3). Результат збережіть в нову змінну та виведіть на екран."
   ],
   "metadata": {
    "id": "m0xrwFijAmDD"
   }
  },
  {
   "cell_type": "code",
   "source": [
    "fload_tuples = (1.2, 2.3, 3.3, 4.3, 5.3, 6.3, 7.3, 8.3, 9.3, 10.3,0.3)\n",
    "index_element = fload_tuples[::2][::-1]\n",
    "print(\"Кожний парний в зворотньому порядку: \",index_element)"
   ],
   "metadata": {
    "id": "p-5DAH6XfAGA",
    "ExecuteTime": {
     "end_time": "2025-02-20T07:45:00.853435Z",
     "start_time": "2025-02-20T07:45:00.847690Z"
    }
   },
   "outputs": [
    {
     "name": "stdout",
     "output_type": "stream",
     "text": [
      "Кожний парний в зворотньому порядку:  (0.3, 9.3, 7.3, 5.3, 3.3, 1.2)\n"
     ]
    }
   ],
   "execution_count": 49
  },
  {
   "cell_type": "markdown",
   "source": [
    "# VI. Множини (Set)."
   ],
   "metadata": {
    "id": "rW_I9dt3x6cW"
   }
  },
  {
   "cell_type": "markdown",
   "source": [
    "17. Створити множину без елементів. Після цого за допомогою методу додайте кілька різних елементів до множини. Чи множини є змінним типом даних?"
   ],
   "metadata": {
    "id": "zNjRLHLw1Bgg"
   }
  },
  {
   "cell_type": "code",
   "source": [
    "empty_set= set()\n",
    "empty_set.add(4)\n",
    "empty_set.add(9)\n",
    "empty_set"
   ],
   "metadata": {
    "id": "KOv7zc2Kfo4N",
    "ExecuteTime": {
     "end_time": "2025-02-20T11:37:24.748121Z",
     "start_time": "2025-02-20T11:37:24.738389Z"
    }
   },
   "outputs": [
    {
     "data": {
      "text/plain": [
       "{4, 9}"
      ]
     },
     "execution_count": 55,
     "metadata": {},
     "output_type": "execute_result"
    }
   ],
   "execution_count": 55
  },
  {
   "cell_type": "markdown",
   "source": "*так, множини є змінним типом даних, бо ми можемо додавати, видаляти або повінстю очищати множину від елементів",
   "metadata": {
    "id": "vxS6dVYiftZQ"
   }
  },
  {
   "cell_type": "markdown",
   "source": [
    "18. Створити множину, маючи список my_list = [1, 1, 2, 67, 67, 8, 9]. Пояснити, чому \"зникли\" деякі елементи."
   ],
   "metadata": {
    "id": "gHpT0Zw_1HEF"
   }
  },
  {
   "cell_type": "code",
   "source": [
    "my_list = [1, 1, 2, 67, 67, 8, 9]\n",
    "new_set = set(my_list)\n",
    "new_set"
   ],
   "metadata": {
    "id": "qCN4uvJ_fxmu",
    "ExecuteTime": {
     "end_time": "2025-02-20T11:40:27.196923Z",
     "start_time": "2025-02-20T11:40:27.192693Z"
    }
   },
   "outputs": [
    {
     "data": {
      "text/plain": [
       "{1, 2, 8, 9, 67}"
      ]
     },
     "execution_count": 56,
     "metadata": {},
     "output_type": "execute_result"
    }
   ],
   "execution_count": 56
  },
  {
   "cell_type": "markdown",
   "source": "* \"зникли\" деякі елементи, оскільки множини зберігають тільки унікальні значення. Тобто дублікати видаляються автоматично\n",
   "metadata": {
    "id": "tFNc1e20fyny"
   }
  },
  {
   "cell_type": "markdown",
   "source": [
    "19. Створіть дві множини. Продемонстуйте над ними операції: обʼєднання, різниці, пересічі та симетричної різниці. Використовуйте методи, що не змінюють множини, а створюють нові."
   ],
   "metadata": {
    "id": "SRMkGizS1UwY"
   }
  },
  {
   "cell_type": "code",
   "source": [
    "first_set = set([1,2,3,4,6])\n",
    "second_set = set([6,7,8,9])\n",
    "union_set = first_set.union(second_set)\n",
    "intersection_set = first_set.intersection(second_set)\n",
    "difference_set = first_set.difference(second_set)\n",
    "sym_diff_set = first_set.symmetric_difference(second_set)\n",
    "print(\"Перша множина\", first_set)\n",
    "print(\"Друга множина\",second_set)\n",
    "print(\"обʼєднання: \", union_set)\n",
    "print(\"Перетин: \",intersection_set)\n",
    "print(\"Різниця: \",difference_set)\n",
    "print(\"Симетрична різниця: \",sym_diff_set)\n"
   ],
   "metadata": {
    "id": "h0T-VuDnf3Ri",
    "ExecuteTime": {
     "end_time": "2025-02-20T11:47:46.954852Z",
     "start_time": "2025-02-20T11:47:46.950485Z"
    }
   },
   "outputs": [
    {
     "name": "stdout",
     "output_type": "stream",
     "text": [
      "Перша множина {1, 2, 3, 4, 6}\n",
      "Друга множина {8, 9, 6, 7}\n",
      "обʼєднання:  {1, 2, 3, 4, 6, 7, 8, 9}\n",
      "Перетин:  {6}\n",
      "Різниця:  {1, 2, 3, 4}\n",
      "Симетрична різниця:  {1, 2, 3, 4, 7, 8, 9}\n"
     ]
    }
   ],
   "execution_count": 61
  },
  {
   "cell_type": "markdown",
   "source": [
    "# VII. Словники (Dictionary)."
   ],
   "metadata": {
    "id": "kWc8gkzTx7Ea"
   }
  },
  {
   "cell_type": "markdown",
   "source": [
    "20. Створіть пустий словник. До нього додайте чотири пари елементів такі, щоб їхні ключі були різних типів. Чи може список бути ключем? Чому?"
   ],
   "metadata": {
    "id": "i5FLwj-B2ybQ"
   }
  },
  {
   "cell_type": "code",
   "source": [
    "my_dict ={}\n",
    "my_dict[\"key1\"] = \"value1\"\n",
    "my_dict[10] = \"value2\"\n",
    "my_dict[3.34] = \"value3\"\n",
    "my_dict[(1,2)] = \"value4\"\n",
    "my_dict\n"
   ],
   "metadata": {
    "id": "hxgv3BzrgLAV",
    "ExecuteTime": {
     "end_time": "2025-02-20T12:08:42.958337Z",
     "start_time": "2025-02-20T12:08:42.952310Z"
    }
   },
   "outputs": [
    {
     "data": {
      "text/plain": [
       "{'key1': 'value1', 10: 'value2', 3.34: 'value3', (1, 2): 'value4'}"
      ]
     },
     "execution_count": 62,
     "metadata": {},
     "output_type": "execute_result"
    }
   ],
   "execution_count": 62
  },
  {
   "cell_type": "markdown",
   "source": "* ключ для словника повинен бути незмінним типом даних, а список змінний. Саме через це, в жодному разі, список не буде ключем та при компіляції видасть помилку",
   "metadata": {
    "id": "zwa7UVN-gR3m"
   }
  },
  {
   "cell_type": "markdown",
   "source": [
    "21. Створіть словник, де значенням в одній з пар теж буде словник, який теж має вкладений словник. Виведіть на екран значення, що міститься в словнику, що знаходиться на найнижчому рівні ієрархії вкладеності (найбільш внутрішній)."
   ],
   "metadata": {
    "id": "WM_pMlJsgoNf"
   }
  },
  {
   "cell_type": "code",
   "source": [
    "my_dict = {\"key1\": \"value1\", \"key2\": {\"key2.2\" : {\"extra_key2.2\": \"deepest\"}}}\n",
    "deepest_var = my_dict[\"key2\"][\"key2.2\"][\"extra_key2.2\"]\n",
    "print(\"Елемент з найнижчого рівня: \", deepest_var)"
   ],
   "metadata": {
    "id": "60dlP7IHhAy4",
    "ExecuteTime": {
     "end_time": "2025-02-20T12:16:50.018592Z",
     "start_time": "2025-02-20T12:16:50.015264Z"
    }
   },
   "outputs": [
    {
     "name": "stdout",
     "output_type": "stream",
     "text": [
      "Елемент з найнижчого рівня:  deepest\n"
     ]
    }
   ],
   "execution_count": 63
  },
  {
   "cell_type": "markdown",
   "source": [
    "# Вітаю! Ви велика(ий) молодець, що впоралась(вся). Похваліть себе та побалуйте чимось приємним. Я Вами пишаюся."
   ],
   "metadata": {
    "id": "xOZP0hkx6cCr"
   }
  }
 ]
}
